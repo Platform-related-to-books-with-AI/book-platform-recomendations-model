{
 "cells": [
  {
   "cell_type": "code",
   "execution_count": null,
   "id": "3ce41c8a",
   "metadata": {},
   "outputs": [],
   "source": [
    "import pandas as pd\n",
    "from dotenv import load_dotenv\n",
    "import os\n",
    "import requests\n",
    "import time"
   ]
  },
  {
   "cell_type": "code",
   "execution_count": null,
   "id": "34aca750",
   "metadata": {},
   "outputs": [],
   "source": [
    "load_dotenv()\n",
    "file = \"../public/top_100k_books.csv\"\n",
    "\n",
    "df = pd.read_csv(file, on_bad_lines='skip')\n",
    "df.to_dict()\n",
    "print(df.columns)\n",
    "isbns = df[\"ISBN\"].dropna().unique()"
   ]
  },
  {
   "cell_type": "code",
   "execution_count": null,
   "id": "863b92e9",
   "metadata": {},
   "outputs": [],
   "source": [
    "results = []\n",
    "\n",
    "for isbn in isbns:\n",
    "    isbn = str(isbn).strip()\n",
    "    url = f\"https://openlibrary.org/isbn/{isbn}.json\"\n",
    "    try:\n",
    "        response = requests.get(url, headers={\"accept\": \"application/json\", \n",
    "                                              \"User-Agent\": os.getenv(\"USER_AGENT\")})\n",
    "        if response.status_code == 200:\n",
    "            data = response.json()\n",
    "\n",
    "            description = data.get('description')\n",
    "            if isinstance(description, dict):\n",
    "                description = description.get('value')\n",
    "\n",
    "            results.append({\n",
    "                \"isbn\": isbn,\n",
    "                \"isbn13\": data.get('isbn_13', [None])[0],\n",
    "                \"subjects\": data.get(\"subjects\", []),\n",
    "                \"description\": description,\n",
    "                \"pagesNumber\": data.get(\"number_of_pages\"),\n",
    "                \"title\": data.get(\"title\")\n",
    "            })\n",
    "        else:\n",
    "            print(f\"❌ ISBN {isbn}: Not found\")\n",
    "    except Exception as e:\n",
    "        print(f\"⚠️ Error with ISBN {isbn}: {e}\")\n",
    "    time.sleep(1)"
   ]
  },
  {
   "cell_type": "code",
   "execution_count": null,
   "id": "ed7736b7",
   "metadata": {},
   "outputs": [],
   "source": [
    "library_data = []\n",
    "for item in results:\n",
    "    library_data.append({\n",
    "        'ISBN10': item.get(\"isbn\"),\n",
    "        'ISBN13': item.get(\"isbn13\"),\n",
    "        'subjects': item.get('subjects', []),\n",
    "        'description': item.get('description')\n",
    "        #'pagesNumber': item.get('pagesNumber'),\n",
    "    })\n",
    "library_df = pd.DataFrame(library_data)\n",
    "columns_to_keep = [\n",
    "    'Id', 'Name', 'Publisher', 'PublishYear', 'CountsOfReview', \n",
    "    'Authors', 'Rating', 'ISBN', 'pagesNumber'\n",
    "]\n",
    "clean_df = df[columns_to_keep]\n",
    "final_df = pd.merge(\n",
    "    clean_df,\n",
    "    library_df,\n",
    "    left_on='ISBN',\n",
    "    right_on='ISBN10',\n",
    "    how='left'\n",
    ")\n",
    "final_df = final_df.drop(columns=['ISBN10'])\n",
    "\n",
    "output_file = \"../public/test_29k.csv\"\n",
    "final_df.to_csv(output_file, index=False)"
   ]
  },
  {
   "cell_type": "code",
   "execution_count": null,
   "id": "10d27539",
   "metadata": {},
   "outputs": [],
   "source": [
    "print(\"\\n=== DEBUG COUNTERS ===\")\n",
    "\n",
    "# Count descriptions and subjects in results\n",
    "desc_count = sum(1 for item in results if item.get('description'))\n",
    "subj_count = sum(1 for item in results if item.get('subjects'))\n",
    "total_api_success = len(results)\n",
    "\n",
    "print(f\"API Success: {total_api_success}/{len(isbns)} books\")\n",
    "print(f\"Books with descriptions: {desc_count}/{total_api_success}\")\n",
    "print(f\"Books with subjects: {subj_count}/{total_api_success}\")\n",
    "\n",
    "if 'final_df' in locals():\n",
    "    print(\"\\nFinal DataFrame Stats:\")\n",
    "    print(f\"Total rows: {len(final_df)}\")\n",
    "    print(f\"Rows with description: {final_df['description'].notna().sum()}\")\n",
    "    print(f\"Rows with subjects: {final_df['subjects'].notna().sum()}\")\n",
    "    print(f\"Rows with ISBN13: {final_df['ISBN13'].notna().sum()}\")\n",
    "    \n",
    "    if len(final_df) != len(clean_df):\n",
    "        print(f\"⚠️ Row count changed during merge! Before: {len(clean_df)}, After: {len(final_df)}\")\n",
    "else:\n",
    "    print(\"Final DataFrame not created yet\")\n",
    "\n",
    "print(\"=== DEBUG END ===\")"
   ]
  }
 ],
 "metadata": {
  "kernelspec": {
   "display_name": "Python 3",
   "language": "python",
   "name": "python3"
  },
  "language_info": {
   "codemirror_mode": {
    "name": "ipython",
    "version": 3
   },
   "file_extension": ".py",
   "mimetype": "text/x-python",
   "name": "python",
   "nbconvert_exporter": "python",
   "pygments_lexer": "ipython3",
   "version": "3.12.6"
  }
 },
 "nbformat": 4,
 "nbformat_minor": 5
}
